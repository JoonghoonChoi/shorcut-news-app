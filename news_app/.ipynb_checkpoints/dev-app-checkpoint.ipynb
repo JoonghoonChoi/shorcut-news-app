{
 "cells": [
  {
   "cell_type": "code",
   "execution_count": 29,
   "id": "precious-building",
   "metadata": {},
   "outputs": [],
   "source": [
    "import tweepy\n",
    "from dotenv import load_dotenv\n",
    "load_dotenv()\n",
    "import os"
   ]
  },
  {
   "cell_type": "code",
   "execution_count": 35,
   "id": "interpreted-jurisdiction",
   "metadata": {},
   "outputs": [],
   "source": [
    "api_key = os.getenv('api_key')\n",
    "api_secret = os.getenv('api_secret')\n",
    "access_token = os.getenv('access_token')\n",
    "access_secret = os.getenv('access_secret')\n",
    "\n",
    "auth = tweepy.OAuthHandler(api_key, api_secret)\n",
    "auth.set_access_token(access_token, access_secret)\n",
    "\n",
    "api = tweepy.API(auth)"
   ]
  }
 ],
 "metadata": {
  "kernelspec": {
   "display_name": "web-app-project",
   "language": "python",
   "name": "web-app-project"
  },
  "language_info": {
   "codemirror_mode": {
    "name": "ipython",
    "version": 3
   },
   "file_extension": ".py",
   "mimetype": "text/x-python",
   "name": "python",
   "nbconvert_exporter": "python",
   "pygments_lexer": "ipython3",
   "version": "3.8.0"
  }
 },
 "nbformat": 4,
 "nbformat_minor": 5
}
